{
 "cells": [
  {
   "cell_type": "code",
   "execution_count": 1,
   "metadata": {},
   "outputs": [],
   "source": [
    "import pandas as pd\n",
    "import numpy as np\n"
   ]
  },
  {
   "cell_type": "code",
   "execution_count": 3,
   "metadata": {},
   "outputs": [
    {
     "data": {
      "text/html": [
       "<div>\n",
       "<style scoped>\n",
       "    .dataframe tbody tr th:only-of-type {\n",
       "        vertical-align: middle;\n",
       "    }\n",
       "\n",
       "    .dataframe tbody tr th {\n",
       "        vertical-align: top;\n",
       "    }\n",
       "\n",
       "    .dataframe thead th {\n",
       "        text-align: right;\n",
       "    }\n",
       "</style>\n",
       "<table border=\"1\" class=\"dataframe\">\n",
       "  <thead>\n",
       "    <tr style=\"text-align: right;\">\n",
       "      <th></th>\n",
       "      <th>origin_path</th>\n",
       "      <th>detect_path</th>\n",
       "      <th>image_names</th>\n",
       "      <th>left_eye</th>\n",
       "      <th>right_eye</th>\n",
       "      <th>avg_eye</th>\n",
       "      <th>truth</th>\n",
       "      <th>detected</th>\n",
       "    </tr>\n",
       "  </thead>\n",
       "  <tbody>\n",
       "    <tr>\n",
       "      <th>0</th>\n",
       "      <td>./testing/Mata/Terbuka/0001.jpg</td>\n",
       "      <td>./detect/Mata/Terbuka/0001.jpg</td>\n",
       "      <td>./testing/Mata/Terbuka/0001.jpg</td>\n",
       "      <td>0.275692</td>\n",
       "      <td>0.348745</td>\n",
       "      <td>0.312218</td>\n",
       "      <td>Terbuka</td>\n",
       "      <td>Terbuka</td>\n",
       "    </tr>\n",
       "    <tr>\n",
       "      <th>1</th>\n",
       "      <td>./testing/Mata/Terbuka/0002.jpg</td>\n",
       "      <td>./detect/Mata/Terbuka/0002.jpg</td>\n",
       "      <td>./testing/Mata/Terbuka/0002.jpg</td>\n",
       "      <td>0.257408</td>\n",
       "      <td>0.334117</td>\n",
       "      <td>0.295763</td>\n",
       "      <td>Terbuka</td>\n",
       "      <td>Terbuka</td>\n",
       "    </tr>\n",
       "    <tr>\n",
       "      <th>2</th>\n",
       "      <td>./testing/Mata/Terbuka/0003.jpg</td>\n",
       "      <td>./detect/Mata/Terbuka/0003.jpg</td>\n",
       "      <td>./testing/Mata/Terbuka/0003.jpg</td>\n",
       "      <td>0.254613</td>\n",
       "      <td>0.220641</td>\n",
       "      <td>0.237627</td>\n",
       "      <td>Terbuka</td>\n",
       "      <td>Tertutup</td>\n",
       "    </tr>\n",
       "    <tr>\n",
       "      <th>3</th>\n",
       "      <td>./testing/Mata/Terbuka/0004.jpg</td>\n",
       "      <td>./detect/Mata/Terbuka/0004.jpg</td>\n",
       "      <td>./testing/Mata/Terbuka/0004.jpg</td>\n",
       "      <td>0.294866</td>\n",
       "      <td>0.236832</td>\n",
       "      <td>0.265849</td>\n",
       "      <td>Terbuka</td>\n",
       "      <td>Terbuka</td>\n",
       "    </tr>\n",
       "    <tr>\n",
       "      <th>4</th>\n",
       "      <td>./testing/Mata/Terbuka/0005.jpg</td>\n",
       "      <td>./detect/Mata/Terbuka/0005.jpg</td>\n",
       "      <td>./testing/Mata/Terbuka/0005.jpg</td>\n",
       "      <td>0.291555</td>\n",
       "      <td>0.193012</td>\n",
       "      <td>0.242283</td>\n",
       "      <td>Terbuka</td>\n",
       "      <td>Terbuka</td>\n",
       "    </tr>\n",
       "  </tbody>\n",
       "</table>\n",
       "</div>"
      ],
      "text/plain": [
       "                       origin_path                     detect_path  \\\n",
       "0  ./testing/Mata/Terbuka/0001.jpg  ./detect/Mata/Terbuka/0001.jpg   \n",
       "1  ./testing/Mata/Terbuka/0002.jpg  ./detect/Mata/Terbuka/0002.jpg   \n",
       "2  ./testing/Mata/Terbuka/0003.jpg  ./detect/Mata/Terbuka/0003.jpg   \n",
       "3  ./testing/Mata/Terbuka/0004.jpg  ./detect/Mata/Terbuka/0004.jpg   \n",
       "4  ./testing/Mata/Terbuka/0005.jpg  ./detect/Mata/Terbuka/0005.jpg   \n",
       "\n",
       "                       image_names  left_eye  right_eye   avg_eye    truth  \\\n",
       "0  ./testing/Mata/Terbuka/0001.jpg  0.275692   0.348745  0.312218  Terbuka   \n",
       "1  ./testing/Mata/Terbuka/0002.jpg  0.257408   0.334117  0.295763  Terbuka   \n",
       "2  ./testing/Mata/Terbuka/0003.jpg  0.254613   0.220641  0.237627  Terbuka   \n",
       "3  ./testing/Mata/Terbuka/0004.jpg  0.294866   0.236832  0.265849  Terbuka   \n",
       "4  ./testing/Mata/Terbuka/0005.jpg  0.291555   0.193012  0.242283  Terbuka   \n",
       "\n",
       "   detected  \n",
       "0   Terbuka  \n",
       "1   Terbuka  \n",
       "2  Tertutup  \n",
       "3   Terbuka  \n",
       "4   Terbuka  "
      ]
     },
     "execution_count": 3,
     "metadata": {},
     "output_type": "execute_result"
    }
   ],
   "source": [
    "df = pd.read_csv('result-detection.csv')\n",
    "df.head()\n",
    "\n"
   ]
  },
  {
   "cell_type": "code",
   "execution_count": 4,
   "metadata": {},
   "outputs": [],
   "source": [
    "def replace_label(val):\n",
    "    if val == 'Terbuka':\n",
    "        return 1\n",
    "    elif val == 'Tertutup':\n",
    "        return 0\n",
    "    else:\n",
    "        return None"
   ]
  },
  {
   "cell_type": "code",
   "execution_count": 5,
   "metadata": {},
   "outputs": [
    {
     "data": {
      "text/html": [
       "<div>\n",
       "<style scoped>\n",
       "    .dataframe tbody tr th:only-of-type {\n",
       "        vertical-align: middle;\n",
       "    }\n",
       "\n",
       "    .dataframe tbody tr th {\n",
       "        vertical-align: top;\n",
       "    }\n",
       "\n",
       "    .dataframe thead th {\n",
       "        text-align: right;\n",
       "    }\n",
       "</style>\n",
       "<table border=\"1\" class=\"dataframe\">\n",
       "  <thead>\n",
       "    <tr style=\"text-align: right;\">\n",
       "      <th></th>\n",
       "      <th>origin_path</th>\n",
       "      <th>detect_path</th>\n",
       "      <th>image_names</th>\n",
       "      <th>left_eye</th>\n",
       "      <th>right_eye</th>\n",
       "      <th>avg_eye</th>\n",
       "      <th>truth</th>\n",
       "      <th>detected</th>\n",
       "    </tr>\n",
       "  </thead>\n",
       "  <tbody>\n",
       "    <tr>\n",
       "      <th>0</th>\n",
       "      <td>./testing/Mata/Terbuka/0001.jpg</td>\n",
       "      <td>./detect/Mata/Terbuka/0001.jpg</td>\n",
       "      <td>./testing/Mata/Terbuka/0001.jpg</td>\n",
       "      <td>0.275692</td>\n",
       "      <td>0.348745</td>\n",
       "      <td>0.312218</td>\n",
       "      <td>1.0</td>\n",
       "      <td>1.0</td>\n",
       "    </tr>\n",
       "    <tr>\n",
       "      <th>1</th>\n",
       "      <td>./testing/Mata/Terbuka/0002.jpg</td>\n",
       "      <td>./detect/Mata/Terbuka/0002.jpg</td>\n",
       "      <td>./testing/Mata/Terbuka/0002.jpg</td>\n",
       "      <td>0.257408</td>\n",
       "      <td>0.334117</td>\n",
       "      <td>0.295763</td>\n",
       "      <td>1.0</td>\n",
       "      <td>1.0</td>\n",
       "    </tr>\n",
       "    <tr>\n",
       "      <th>2</th>\n",
       "      <td>./testing/Mata/Terbuka/0003.jpg</td>\n",
       "      <td>./detect/Mata/Terbuka/0003.jpg</td>\n",
       "      <td>./testing/Mata/Terbuka/0003.jpg</td>\n",
       "      <td>0.254613</td>\n",
       "      <td>0.220641</td>\n",
       "      <td>0.237627</td>\n",
       "      <td>1.0</td>\n",
       "      <td>0.0</td>\n",
       "    </tr>\n",
       "    <tr>\n",
       "      <th>3</th>\n",
       "      <td>./testing/Mata/Terbuka/0004.jpg</td>\n",
       "      <td>./detect/Mata/Terbuka/0004.jpg</td>\n",
       "      <td>./testing/Mata/Terbuka/0004.jpg</td>\n",
       "      <td>0.294866</td>\n",
       "      <td>0.236832</td>\n",
       "      <td>0.265849</td>\n",
       "      <td>1.0</td>\n",
       "      <td>1.0</td>\n",
       "    </tr>\n",
       "    <tr>\n",
       "      <th>4</th>\n",
       "      <td>./testing/Mata/Terbuka/0005.jpg</td>\n",
       "      <td>./detect/Mata/Terbuka/0005.jpg</td>\n",
       "      <td>./testing/Mata/Terbuka/0005.jpg</td>\n",
       "      <td>0.291555</td>\n",
       "      <td>0.193012</td>\n",
       "      <td>0.242283</td>\n",
       "      <td>1.0</td>\n",
       "      <td>1.0</td>\n",
       "    </tr>\n",
       "  </tbody>\n",
       "</table>\n",
       "</div>"
      ],
      "text/plain": [
       "                       origin_path                     detect_path  \\\n",
       "0  ./testing/Mata/Terbuka/0001.jpg  ./detect/Mata/Terbuka/0001.jpg   \n",
       "1  ./testing/Mata/Terbuka/0002.jpg  ./detect/Mata/Terbuka/0002.jpg   \n",
       "2  ./testing/Mata/Terbuka/0003.jpg  ./detect/Mata/Terbuka/0003.jpg   \n",
       "3  ./testing/Mata/Terbuka/0004.jpg  ./detect/Mata/Terbuka/0004.jpg   \n",
       "4  ./testing/Mata/Terbuka/0005.jpg  ./detect/Mata/Terbuka/0005.jpg   \n",
       "\n",
       "                       image_names  left_eye  right_eye   avg_eye  truth  \\\n",
       "0  ./testing/Mata/Terbuka/0001.jpg  0.275692   0.348745  0.312218    1.0   \n",
       "1  ./testing/Mata/Terbuka/0002.jpg  0.257408   0.334117  0.295763    1.0   \n",
       "2  ./testing/Mata/Terbuka/0003.jpg  0.254613   0.220641  0.237627    1.0   \n",
       "3  ./testing/Mata/Terbuka/0004.jpg  0.294866   0.236832  0.265849    1.0   \n",
       "4  ./testing/Mata/Terbuka/0005.jpg  0.291555   0.193012  0.242283    1.0   \n",
       "\n",
       "   detected  \n",
       "0       1.0  \n",
       "1       1.0  \n",
       "2       0.0  \n",
       "3       1.0  \n",
       "4       1.0  "
      ]
     },
     "execution_count": 5,
     "metadata": {},
     "output_type": "execute_result"
    }
   ],
   "source": [
    "df['truth'] = df['truth'].apply(replace_label)\n",
    "df['detected'] = df['detected'].apply(replace_label)\n",
    "\n",
    "df.head()"
   ]
  },
  {
   "cell_type": "code",
   "execution_count": 8,
   "metadata": {},
   "outputs": [
    {
     "data": {
      "text/plain": [
       "origin_path    36\n",
       "detect_path    36\n",
       "image_names    36\n",
       "left_eye       36\n",
       "right_eye      36\n",
       "avg_eye        36\n",
       "truth          36\n",
       "detected       36\n",
       "dtype: int64"
      ]
     },
     "execution_count": 8,
     "metadata": {},
     "output_type": "execute_result"
    }
   ],
   "source": [
    "df.isnull().sum()"
   ]
  },
  {
   "cell_type": "code",
   "execution_count": 9,
   "metadata": {},
   "outputs": [
    {
     "data": {
      "text/plain": [
       "(560, 8)"
      ]
     },
     "execution_count": 9,
     "metadata": {},
     "output_type": "execute_result"
    }
   ],
   "source": [
    "df.shape"
   ]
  },
  {
   "cell_type": "code",
   "execution_count": 13,
   "metadata": {},
   "outputs": [
    {
     "name": "stdout",
     "output_type": "stream",
     "text": [
      "detected\n",
      "0.0    322\n",
      "1.0    202\n",
      "Name: count, dtype: int64\n",
      "truth\n",
      "0.0    271\n",
      "1.0    253\n",
      "Name: count, dtype: int64\n"
     ]
    }
   ],
   "source": [
    "df_clean = df.dropna()\n",
    "print(df_clean['detected'].value_counts())\n",
    "print(df_clean['truth'].value_counts())"
   ]
  },
  {
   "cell_type": "code",
   "execution_count": 15,
   "metadata": {},
   "outputs": [],
   "source": [
    "from sklearn.metrics import confusion_matrix, accuracy_score, precision_score, recall_score, f1_score\n",
    "import matplotlib.pyplot as plt \n",
    "import seaborn as sns"
   ]
  },
  {
   "cell_type": "code",
   "execution_count": 14,
   "metadata": {},
   "outputs": [
    {
     "data": {
      "image/png": "[encoded data removed]",
      "text/plain": [
       "<Figure size 800x600 with 2 Axes>"
      ]
     },
     "metadata": {},
     "output_type": "display_data"
    }
   ],
   "source": [
    "# Hitung confusion matrix\n",
    "cm = confusion_matrix(df_clean['truth'], df_clean['detected'])\n",
    "\n",
    "# Buat dataframe untuk confusion matrix\n",
    "cm_df = pd.DataFrame(cm, index=['Actual 0', 'Actual 1'], columns=['Predicted 0', 'Predicted 1'])\n",
    "\n",
    "# Visualisasi confusion matrix\n",
    "plt.figure(figsize=(8, 6))\n",
    "sns.heatmap(cm_df, annot=True, fmt='d', cmap='Blues')\n",
    "plt.xlabel('Predicted Label')\n",
    "plt.ylabel('True Label')\n",
    "plt.title('Confusion Matrix')\n",
    "plt.show()"
   ]
  },
  {
   "cell_type": "code",
   "execution_count": 17,
   "metadata": {},
   "outputs": [
    {
     "name": "stdout",
     "output_type": "stream",
     "text": [
      "Confusion Matrix:\n",
      "[[242  29]\n",
      " [ 80 173]]\n",
      "\n",
      "Metrik Evaluasi:\n",
      "Akurasi: 0.79\n",
      "Precision: 0.86\n",
      "Recall: 0.68\n",
      "F1 Score: 0.76\n"
     ]
    }
   ],
   "source": [
    "# Hitung metrik\n",
    "accuracy = accuracy_score(df_clean['truth'], df_clean['detected'])\n",
    "precision = precision_score(df_clean['truth'], df_clean['detected'])\n",
    "recall = recall_score(df_clean['truth'], df_clean['detected'])\n",
    "f1 = f1_score(df_clean['truth'], df_clean['detected'])\n",
    "\n",
    "# Tampilkan confusion matrix\n",
    "print(\"Confusion Matrix:\")\n",
    "print(cm)\n",
    "\n",
    "# Tampilkan metrik\n",
    "print(\"\\nMetrik Evaluasi:\")\n",
    "print(f\"Akurasi: {accuracy:.2f}\")\n",
    "print(f\"Precision: {precision:.2f}\")\n",
    "print(f\"Recall: {recall:.2f}\")\n",
    "print(f\"F1 Score: {f1:.2f}\")"
   ]
  }
 ],
 "metadata": {
  "kernelspec": {
   "display_name": "bangkitcourse",
   "language": "python",
   "name": "python3"
  },
  "language_info": {
   "codemirror_mode": {
    "name": "ipython",
    "version": 3
   },
   "file_extension": ".py",
   "mimetype": "text/x-python",
   "name": "python",
   "nbconvert_exporter": "python",
   "pygments_lexer": "ipython3",
   "version": "3.9.19"
  }
 },
 "nbformat": 4,
 "nbformat_minor": 2
}
